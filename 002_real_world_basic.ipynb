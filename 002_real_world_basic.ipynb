{
 "cells": [
  {
   "cell_type": "markdown",
   "metadata": {
    "application/vnd.databricks.v1+cell": {
     "cellMetadata": {},
     "inputWidgets": {},
     "nuid": "238751a3-bc96-4b0a-9821-ec722d92e56d",
     "showTitle": false,
     "tableResultSettingsMap": {},
     "title": ""
    }
   },
   "source": [
    "# LangChain 1.0 Basic(Real World) Agent in Databricks\n",
    "\n",
    "Ref:\n",
    "https://docs.langchain.com/oss/python/langchain/quickstart#build-a-real-world-agent"
   ]
  },
  {
   "cell_type": "code",
   "execution_count": 0,
   "metadata": {
    "application/vnd.databricks.v1+cell": {
     "cellMetadata": {
      "byteLimit": 2048000,
      "rowLimit": 10000
     },
     "inputWidgets": {},
     "nuid": "357ccaea-86f9-47cf-affe-99fc4c1ecdc4",
     "showTitle": false,
     "tableResultSettingsMap": {},
     "title": ""
    }
   },
   "outputs": [],
   "source": [
    "%pip install -U langchain>=1.0.0 langchain_openai>=1.0.0 mlflow\n",
    "\n",
    "%restart_python"
   ]
  },
  {
   "cell_type": "markdown",
   "metadata": {
    "application/vnd.databricks.v1+cell": {
     "cellMetadata": {},
     "inputWidgets": {},
     "nuid": "ac46ba61-2705-4f4d-83d1-afded2a7fe17",
     "showTitle": false,
     "tableResultSettingsMap": {},
     "title": ""
    }
   },
   "source": [
    "## モデルとの接続"
   ]
  },
  {
   "cell_type": "code",
   "execution_count": 0,
   "metadata": {
    "application/vnd.databricks.v1+cell": {
     "cellMetadata": {
      "byteLimit": 2048000,
      "rowLimit": 10000
     },
     "inputWidgets": {},
     "nuid": "91338d0d-f8fd-46f2-ae00-0dfdcc976b2b",
     "showTitle": false,
     "tableResultSettingsMap": {},
     "title": ""
    }
   },
   "outputs": [],
   "source": [
    "from langchain.chat_models import init_chat_model\n",
    "import mlflow\n",
    "import os\n",
    "\n",
    "mlflow.langchain.autolog()\n",
    "\n",
    "creds = mlflow.utils.databricks_utils.get_databricks_host_creds()\n",
    "model = init_chat_model(\n",
    "    # \"openai:databricks-llama-4-maverick\",\n",
    "    \"openai:databricks-qwen3-next-80b-a3b-instruct\",\n",
    "    api_key=creds.token,\n",
    "    base_url=creds.host + \"/serving-endpoints\",\n",
    ")\n"
   ]
  },
  {
   "cell_type": "markdown",
   "metadata": {
    "application/vnd.databricks.v1+cell": {
     "cellMetadata": {},
     "inputWidgets": {},
     "nuid": "1b24e175-2954-499e-82f1-1f33f7c765ba",
     "showTitle": false,
     "tableResultSettingsMap": {},
     "title": ""
    }
   },
   "source": [
    "## 単純なエージェントの作成と実行"
   ]
  },
  {
   "cell_type": "code",
   "execution_count": 0,
   "metadata": {
    "application/vnd.databricks.v1+cell": {
     "cellMetadata": {
      "byteLimit": 2048000,
      "rowLimit": 10000
     },
     "inputWidgets": {},
     "nuid": "f1e7eaa5-8ec2-4633-95f3-afa94159755e",
     "showTitle": true,
     "tableResultSettingsMap": {},
     "title": "Create tools"
    }
   },
   "outputs": [],
   "source": [
    "from dataclasses import dataclass\n",
    "from langchain.tools import tool, ToolRuntime\n",
    "\n",
    "SYSTEM_PROMPT = \"\"\"あなたはダジャレを交えた話し方をする天気予報の専門家です。\n",
    "\n",
    "あなたは2つのツールにアクセスできます:\n",
    "\n",
    "- get_weather_for_location: 特定の場所の天気を取得するために使用します\n",
    "- get_user_location: ユーザーの現在地を取得するために使用します\n",
    "\n",
    "ユーザーが天気を尋ねてきた場合、必ず場所を把握してください。質問からユーザーの現在地を指していると判断できる場合は、get_user_locationツールを使って場所を特定してください。\n",
    "\"\"\"\n",
    "\n",
    "@tool\n",
    "def get_weather_for_location(city: str) -> str:\n",
    "    \"\"\"指定した都市の天気を取得します。\"\"\"\n",
    "    return f\"{city}はいつも晴れです！\"\n",
    "\n",
    "\n",
    "@dataclass\n",
    "class Context:\n",
    "    \"\"\"カスタム実行時コンテキストスキーマ。\"\"\"\n",
    "    user_id: str\n",
    "\n",
    "\n",
    "@tool\n",
    "def get_user_location(runtime: ToolRuntime[Context]) -> str:\n",
    "    \"\"\"ユーザーIDに基づいてユーザー情報（場所）を取得します。\"\"\"\n",
    "    user_id = runtime.context.user_id\n",
    "    return \"Florida\" if user_id == \"1\" else \"SF\""
   ]
  },
  {
   "cell_type": "code",
   "execution_count": 0,
   "metadata": {
    "application/vnd.databricks.v1+cell": {
     "cellMetadata": {
      "byteLimit": 2048000,
      "rowLimit": 10000
     },
     "inputWidgets": {},
     "nuid": "c9585393-046c-4e45-8b91-f21e2269c703",
     "showTitle": true,
     "tableResultSettingsMap": {},
     "title": "Define response format"
    }
   },
   "outputs": [],
   "source": [
    "from dataclasses import dataclass\n",
    "\n",
    "# ここではdataclassを使用していますが、Pydanticモデルもサポートされています。\n",
    "@dataclass\n",
    "class ResponseFormat:\n",
    "    \"\"\"エージェントのレスポンススキーマ\"\"\"\n",
    "\n",
    "    # ダジャレを含むレスポンス（必須）\n",
    "    punny_response: str\n",
    "    # 天気に関する興味深い情報（あれば）\n",
    "    weather_conditions: str | None = None"
   ]
  },
  {
   "cell_type": "code",
   "execution_count": 0,
   "metadata": {
    "application/vnd.databricks.v1+cell": {
     "cellMetadata": {
      "byteLimit": 2048000,
      "rowLimit": 10000
     },
     "inputWidgets": {},
     "nuid": "59692993-1ff1-44a5-969c-2e8b83cfef87",
     "showTitle": true,
     "tableResultSettingsMap": {},
     "title": "Add Memory"
    }
   },
   "outputs": [],
   "source": [
    "from langgraph.checkpoint.memory import InMemorySaver\n",
    "\n",
    "# 短期記憶をメモリ内に保持\n",
    "checkpointer = InMemorySaver()"
   ]
  },
  {
   "cell_type": "code",
   "execution_count": 0,
   "metadata": {
    "application/vnd.databricks.v1+cell": {
     "cellMetadata": {
      "byteLimit": 2048000,
      "rowLimit": 10000
     },
     "inputWidgets": {},
     "nuid": "a608cf70-661d-4593-b64d-45f5d724fdf5",
     "showTitle": true,
     "tableResultSettingsMap": {},
     "title": "Create and run the agent"
    }
   },
   "outputs": [],
   "source": [
    "from langchain.agents import create_agent\n",
    "from pprint import pprint\n",
    "\n",
    "agent = create_agent(\n",
    "    model=model,\n",
    "    system_prompt=SYSTEM_PROMPT,\n",
    "    tools=[get_user_location, get_weather_for_location],\n",
    "    context_schema=Context,\n",
    "    response_format=ResponseFormat,\n",
    "    checkpointer=checkpointer\n",
    ")\n",
    "\n",
    "# `thread_id` は会話ごとの一意な識別子です。\n",
    "config = {\"configurable\": {\"thread_id\": \"1\"}}\n",
    "\n",
    "response = agent.invoke(\n",
    "    {\"messages\": [{\"role\": \"user\", \"content\": \"外の天気はどうですか？\"}]},\n",
    "    config=config,\n",
    "    context=Context(user_id=\"1\")\n",
    ")\n",
    "\n",
    "print(response['structured_response'])\n",
    "\n",
    "# 同じ `thread_id` を使って会話を続けることができます。\n",
    "response = agent.invoke(\n",
    "    {\"messages\": [{\"role\": \"user\", \"content\": \"ありがとう！\"}]},\n",
    "    config=config,\n",
    "    context=Context(user_id=\"1\")\n",
    ")\n",
    "\n",
    "print(response['structured_response'])"
   ]
  }
 ],
 "metadata": {
  "application/vnd.databricks.v1+notebook": {
   "computePreferences": {
    "hardware": {
     "accelerator": null,
     "gpuPoolId": null,
     "memory": null
    }
   },
   "dashboards": [],
   "environmentMetadata": {
    "base_environment": "",
    "environment_version": "4"
   },
   "inputWidgetPreferences": null,
   "language": "python",
   "notebookMetadata": {
    "pythonIndentUnit": 4
   },
   "notebookName": "002_real_world_basic",
   "widgets": {}
  },
  "language_info": {
   "name": "python"
  }
 },
 "nbformat": 4,
 "nbformat_minor": 0
}
