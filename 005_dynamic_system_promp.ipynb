{
 "cells": [
  {
   "cell_type": "markdown",
   "metadata": {
    "application/vnd.databricks.v1+cell": {
     "cellMetadata": {},
     "inputWidgets": {},
     "nuid": "238751a3-bc96-4b0a-9821-ec722d92e56d",
     "showTitle": false,
     "tableResultSettingsMap": {},
     "title": ""
    }
   },
   "source": [
    "# LangChain 1.0 Dynamic System Prompt\n",
    "\n",
    "Ref:\n",
    "https://docs.langchain.com/oss/python/langchain/agents#dynamic-system-prompt"
   ]
  },
  {
   "cell_type": "code",
   "execution_count": 0,
   "metadata": {
    "application/vnd.databricks.v1+cell": {
     "cellMetadata": {
      "byteLimit": 2048000,
      "rowLimit": 10000
     },
     "inputWidgets": {},
     "nuid": "357ccaea-86f9-47cf-affe-99fc4c1ecdc4",
     "showTitle": false,
     "tableResultSettingsMap": {},
     "title": ""
    }
   },
   "outputs": [],
   "source": [
    "%pip install -U langchain>=1.0.0 langchain_openai>=1.0.0 mlflow\n",
    "\n",
    "%restart_python"
   ]
  },
  {
   "cell_type": "markdown",
   "metadata": {
    "application/vnd.databricks.v1+cell": {
     "cellMetadata": {},
     "inputWidgets": {},
     "nuid": "ac46ba61-2705-4f4d-83d1-afded2a7fe17",
     "showTitle": false,
     "tableResultSettingsMap": {},
     "title": ""
    }
   },
   "source": [
    "## モデルとの接続"
   ]
  },
  {
   "cell_type": "code",
   "execution_count": 0,
   "metadata": {
    "application/vnd.databricks.v1+cell": {
     "cellMetadata": {
      "byteLimit": 2048000,
      "rowLimit": 10000
     },
     "inputWidgets": {},
     "nuid": "1766dac6-7da0-4134-b53d-f09a395d0478",
     "showTitle": false,
     "tableResultSettingsMap": {},
     "title": ""
    }
   },
   "outputs": [],
   "source": [
    "from langchain.chat_models import init_chat_model\n",
    "import mlflow\n",
    "\n",
    "mlflow.langchain.autolog()\n",
    "\n",
    "creds = mlflow.utils.databricks_utils.get_databricks_host_creds()\n",
    "model = init_chat_model(\n",
    "    \"openai:databricks-gpt-oss-20b\",\n",
    "    api_key=creds.token,\n",
    "    base_url=creds.host + \"/serving-endpoints\",\n",
    ")\n"
   ]
  },
  {
   "cell_type": "markdown",
   "metadata": {
    "application/vnd.databricks.v1+cell": {
     "cellMetadata": {},
     "inputWidgets": {},
     "nuid": "1b24e175-2954-499e-82f1-1f33f7c765ba",
     "showTitle": false,
     "tableResultSettingsMap": {},
     "title": ""
    }
   },
   "source": [
    "## エージェントの作成と実行"
   ]
  },
  {
   "cell_type": "code",
   "execution_count": 0,
   "metadata": {
    "application/vnd.databricks.v1+cell": {
     "cellMetadata": {
      "byteLimit": 2048000,
      "rowLimit": 10000
     },
     "inputWidgets": {},
     "nuid": "860b03d3-41f9-4d75-b9ec-3dec8e047563",
     "showTitle": false,
     "tableResultSettingsMap": {},
     "title": ""
    }
   },
   "outputs": [],
   "source": [
    "from typing import TypedDict\n",
    "from langchain.agents.middleware import dynamic_prompt, ModelRequest\n",
    "\n",
    "class Context(TypedDict):\n",
    "    user_role: str\n",
    "\n",
    "@dynamic_prompt\n",
    "def user_role_prompt(request: ModelRequest) -> str:\n",
    "    \"\"\"ユーザーの役割に基づいてシステムプロンプトを生成します。\"\"\"\n",
    "\n",
    "    # 動作がわかるように、mlflowのtracingを利用\n",
    "    with mlflow.start_span(name=\"user_role_prompt\") as span:\n",
    "        user_role = request.runtime.context.get(\"user_role\", \"user\")\n",
    "        base_prompt = \"You are a helpful assistant.\"\n",
    "        final_prompt = base_prompt\n",
    "\n",
    "        span.set_inputs(user_role)\n",
    "\n",
    "        if user_role == \"expert\":\n",
    "            final_prompt = f\"{base_prompt} Provide detailed technical responses.\"\n",
    "        elif user_role == \"beginner\":\n",
    "            final_prompt = f\"{base_prompt} Explain concepts simply and avoid jargon.\"\n",
    "\n",
    "        span.set_outputs(final_prompt)\n",
    "        return final_prompt"
   ]
  },
  {
   "cell_type": "code",
   "execution_count": 0,
   "metadata": {
    "application/vnd.databricks.v1+cell": {
     "cellMetadata": {
      "byteLimit": 2048000,
      "rowLimit": 10000
     },
     "inputWidgets": {},
     "nuid": "9ca9e07b-3956-4374-8762-4736b807ebfb",
     "showTitle": false,
     "tableResultSettingsMap": {},
     "title": ""
    }
   },
   "outputs": [],
   "source": [
    "from langchain.agents import create_agent\n",
    "from pprint import pprint\n",
    "\n",
    "\n",
    "def get_weather(city: str) -> str:\n",
    "    \"\"\"指定した都市の天気を取得します。\"\"\"\n",
    "    return f\"It's always sunny in {city}!\"\n",
    "\n",
    "\n",
    "agent = create_agent(\n",
    "    model=model,\n",
    "    tools=[get_weather],\n",
    "    middleware=[user_role_prompt],\n",
    "    context_schema=Context,\n",
    ")\n",
    "\n",
    "input = {\"messages\": [{\"role\": \"user\", \"content\": \"SFの天気は？\"}]}\n",
    "context = {\"user_role\": \"expert\"}\n",
    "for event in agent.stream(input, context=context, stream_mode=\"updates\"):\n",
    "    pprint(event)"
   ]
  }
 ],
 "metadata": {
  "application/vnd.databricks.v1+notebook": {
   "computePreferences": {
    "hardware": {
     "accelerator": null,
     "gpuPoolId": null,
     "memory": null
    }
   },
   "dashboards": [],
   "environmentMetadata": {
    "base_environment": "",
    "environment_version": "4"
   },
   "inputWidgetPreferences": null,
   "language": "python",
   "notebookMetadata": {
    "pythonIndentUnit": 4
   },
   "notebookName": "005_dynamic_system_promp",
   "widgets": {}
  },
  "language_info": {
   "name": "python"
  }
 },
 "nbformat": 4,
 "nbformat_minor": 0
}
